{
 "cells": [
  {
   "cell_type": "code",
   "execution_count": 1,
   "metadata": {
    "collapsed": true
   },
   "outputs": [],
   "source": [
    "import pandas as pd\n",
    "import os\n",
    "import numpy as np\n",
    "import arcpy"
   ]
  },
  {
   "cell_type": "code",
   "execution_count": 18,
   "metadata": {
    "collapsed": false
   },
   "outputs": [],
   "source": [
    "ica = pd.read_csv(r'data/ic.txt')"
   ]
  },
  {
   "cell_type": "code",
   "execution_count": 3,
   "metadata": {
    "collapsed": false
   },
   "outputs": [],
   "source": [
    "out = {}\n",
    "\n",
    "for i, row in ica.iterrows():\n",
    "    out[row[3]] = {'NAZOB': row[2], 'OBYV11': row[4]}"
   ]
  },
  {
   "cell_type": "code",
   "execution_count": 4,
   "metadata": {
    "collapsed": false
   },
   "outputs": [
    {
     "name": "stdout",
     "output_type": "stream",
     "text": [
      "2010_FINM203.csv\n",
      "  2010_FINM203.csv\n",
      "01265750 2010_FINM203.csv\n",
      "72086718 2010_FINM203.csv\n",
      "01265741 2010_FINM203.csv\n",
      "00017361 2010_FINM203.csv\n",
      "00241989 2010_FINM203.csv\n",
      "2011_FINM203.csv\n",
      "  2011_FINM203.csv\n",
      "01265750 2011_FINM203.csv\n",
      "01265741 2011_FINM203.csv\n",
      "00017361 2011_FINM203.csv\n",
      "00241989 2011_FINM203.csv\n",
      "2012_FINM203.csv\n",
      "  2012_FINM203.csv\n",
      "01265750 2012_FINM203.csv\n",
      "01265741 2012_FINM203.csv\n",
      "00017361 2012_FINM203.csv\n",
      "00241989 2012_FINM203.csv\n",
      "2013_FINM203.csv\n",
      "  2013_FINM203.csv\n",
      "00017361 2013_FINM203.csv\n",
      "00241989 2013_FINM203.csv\n",
      "2014_FINM203.csv\n",
      "  2014_FINM203.csv\n",
      "00017361 2014_FINM203.csv\n",
      "00241989 2014_FINM203.csv\n"
     ]
    }
   ],
   "source": [
    "for year in os.listdir(r'data/finm/'):\n",
    "    print(year)\n",
    "    temp = pd.read_csv(r'data/finm/' + year, sep=';', low_memory=False, dtype='str')\n",
    "    if(int(year.split('_')[0]) <= 2012):\n",
    "        adder = '00'\n",
    "    else:\n",
    "        adder = ''\n",
    "    \n",
    "    for obec in out:\n",
    "        try:\n",
    "            saldo = temp[(temp['ZC_ICO:ZC_ICO'] == adder + obec) & (temp['ZC_POLVYK:ZC_POLVYK'] == '4440')][['ZU_ROZKZ:ZU_ROZKZ']].iloc[0]['ZU_ROZKZ:ZU_ROZKZ']\n",
    "            if(saldo.endswith('-')):\n",
    "                sal = float(saldo.rstrip('-')) * -1.0\n",
    "            else:\n",
    "                sal = float(saldo)\n",
    "            out[obec]['saldo_' + year.split('_')[0]] = sal\n",
    "        except:\n",
    "            out[obec]['saldo_' + year.split('_')[0]] = np.nan\n",
    "            print(obec, year)"
   ]
  },
  {
   "cell_type": "code",
   "execution_count": 5,
   "metadata": {
    "collapsed": true
   },
   "outputs": [],
   "source": [
    "data = pd.DataFrame.from_dict(out, orient='index').reset_index().rename(columns={'index': 'ico'})"
   ]
  },
  {
   "cell_type": "code",
   "execution_count": 29,
   "metadata": {
    "collapsed": false
   },
   "outputs": [],
   "source": [
    "#nahrat do GDB\n",
    "def toGDB(dframe, fclass):\n",
    "    arr_values = {}\n",
    "    arr_dtypes = []\n",
    "\n",
    "    cols = dframe.columns\n",
    "\n",
    "    for col in cols:\n",
    "\n",
    "        arr = dframe[col].values\n",
    "\n",
    "        if arr.dtype == np.object:\n",
    "            arr = arr.astype(np.unicode)\n",
    "\n",
    "        if arr.dtype == np.int64:\n",
    "            max_val = arr.max()\n",
    "            min_val = arr.min()\n",
    "            if min_val < -2147483647 or max_val > 2147483647:\n",
    "                arr = arr.astype(np.float64)\n",
    "            else:\n",
    "                arr = arr.astype(np.int32)\n",
    "\n",
    "        if arr.dtype == np.bool:\n",
    "            arr = arr.astype(np.int32)\n",
    "\n",
    "        arr_values[col] = arr\n",
    "        arr_dtypes.append((col, arr.dtype))\n",
    "\n",
    "    outArr = np.empty(len(dframe), dtype=arr_dtypes)\n",
    "\n",
    "    for col in arr_values:\n",
    "        outArr[col] = arr_values[col]\n",
    "\n",
    "    arcpy.da.NumPyArrayToTable(outArr, fclass)"
   ]
  },
  {
   "cell_type": "code",
   "execution_count": null,
   "metadata": {
    "collapsed": true
   },
   "outputs": [],
   "source": [
    "toGDB(data, r'data/ob_rozpocty.gdb/obce_saldo')"
   ]
  },
  {
   "cell_type": "code",
   "execution_count": 4,
   "metadata": {
    "collapsed": false
   },
   "outputs": [],
   "source": [
    "#alias rename\n",
    "fclass = \"data/ob_rozpocty.gdb/obce_saldo\"\n",
    "fieldnames = [f.name for f in arcpy.ListFields(fclass)]\n",
    "\n",
    "for column in fieldnames:\n",
    "    if (column.startswith('saldo')):\n",
    "        arcpy.AlterField_management(in_table=r'data/ob_rozpocty.gdb/obce_saldo', field=column, new_field_alias=column)"
   ]
  },
  {
   "cell_type": "code",
   "execution_count": 27,
   "metadata": {
    "collapsed": false
   },
   "outputs": [],
   "source": [
    "#pocty obyvatel\n",
    "outo = {}\n",
    "\n",
    "for i, row in ica.iterrows():\n",
    "    outo[row[3]] = {'ICOB': row[1], 'NAZOB': row[2]}\n",
    "\n",
    "obyvOut = pd.DataFrame.from_dict(outo, orient='index')\n",
    "\n",
    "for file in os.listdir(r'data/obyv/'):\n",
    "    temp = pd.read_excel(r'data/obyv/' + file, skiprows=6, parse_cols=[1, 3]).dropna(subset=['Unnamed: 1']).rename(columns={'Unnamed: 0': 'ICOB','Unnamed: 1': file.split('.')[0],})\n",
    "    obyvOut = obyvOut.merge(temp, on='ICOB', how='left')"
   ]
  },
  {
   "cell_type": "code",
   "execution_count": 30,
   "metadata": {
    "collapsed": false
   },
   "outputs": [],
   "source": [
    "toGDB(obyvOut, r'data/ob_rozpocty.gdb/obce_obyvatele')"
   ]
  },
  {
   "cell_type": "code",
   "execution_count": 6,
   "metadata": {
    "collapsed": false
   },
   "outputs": [
    {
     "data": {
      "text/plain": [
       "<Result 'data/ob_rozpocty.gdb/obce_saldo_poly'>"
      ]
     },
     "execution_count": 6,
     "metadata": {},
     "output_type": "execute_result"
    }
   ],
   "source": [
    "arcpy.CalculateField_management(in_table=\"data/ob_rozpocty.gdb/obce_saldo_poly\", field=\"saldo_obyv_2014\", expression=\"!saldo_2014! / !obyv_2014!\", expression_type=\"PYTHON_9.3\", code_block=\"\")"
   ]
  },
  {
   "cell_type": "code",
   "execution_count": null,
   "metadata": {
    "collapsed": true
   },
   "outputs": [],
   "source": [
    "#data.to_excel(r'data/sumarized.xlsx')"
   ]
  }
 ],
 "metadata": {
  "kernelspec": {
   "display_name": "Python 3",
   "language": "python",
   "name": "python3"
  },
  "language_info": {
   "codemirror_mode": {
    "name": "ipython",
    "version": 3
   },
   "file_extension": ".py",
   "mimetype": "text/x-python",
   "name": "python",
   "nbconvert_exporter": "python",
   "pygments_lexer": "ipython3",
   "version": "3.4.3"
  }
 },
 "nbformat": 4,
 "nbformat_minor": 0
}
